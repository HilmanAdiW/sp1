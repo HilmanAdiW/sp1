{
 "cells": [
  {
   "cell_type": "code",
   "execution_count": 1,
   "id": "2512fa8b",
   "metadata": {},
   "outputs": [],
   "source": [
    "from pyspark.sql import SparkSession\n",
    "from pyspark.sql.functions import col"
   ]
  },
  {
   "cell_type": "code",
   "execution_count": 2,
   "id": "860ff607",
   "metadata": {},
   "outputs": [
    {
     "name": "stderr",
     "output_type": "stream",
     "text": [
      "22/05/15 11:11:29 WARN Utils: Your hostname, hilman-VirtualBox resolves to a loopback address: 127.0.1.1; using 10.0.2.15 instead (on interface enp0s3)\n",
      "22/05/15 11:11:29 WARN Utils: Set SPARK_LOCAL_IP if you need to bind to another address\n",
      "WARNING: An illegal reflective access operation has occurred\n",
      "WARNING: Illegal reflective access by org.apache.spark.unsafe.Platform (file:/home/hilman/miniconda3/lib/python3.9/site-packages/pyspark/jars/spark-unsafe_2.12-3.2.1.jar) to constructor java.nio.DirectByteBuffer(long,int)\n",
      "WARNING: Please consider reporting this to the maintainers of org.apache.spark.unsafe.Platform\n",
      "WARNING: Use --illegal-access=warn to enable warnings of further illegal reflective access operations\n",
      "WARNING: All illegal access operations will be denied in a future release\n",
      "22/05/15 11:11:30 WARN NativeCodeLoader: Unable to load native-hadoop library for your platform... using builtin-java classes where applicable\n",
      "Using Spark's default log4j profile: org/apache/spark/log4j-defaults.properties\n",
      "Setting default log level to \"WARN\".\n",
      "To adjust logging level use sc.setLogLevel(newLevel). For SparkR, use setLogLevel(newLevel).\n"
     ]
    }
   ],
   "source": [
    "scSpark = SparkSession \\\n",
    ".builder \\\n",
    ".appName (\"test\") \\\n",
    ".config(\"spark.jars\", \"postgresql-42.3.5.jar\")\\\n",
    ".getOrCreate()"
   ]
  },
  {
   "cell_type": "code",
   "execution_count": 3,
   "id": "ca159b5e",
   "metadata": {},
   "outputs": [],
   "source": [
    "df = scSpark.read \\\n",
    ".format(\"jdbc\") \\\n",
    ".option('url','jdbc:postgresql://localhost/bigdatacilsy') \\\n",
    ".option('dbtable','invoice') \\\n",
    ".option('user','postgres') \\\n",
    ".option('password','postgres') \\\n",
    ".option('driver','org.postgresql.Driver')\\\n",
    ".load()"
   ]
  },
  {
   "cell_type": "code",
   "execution_count": 4,
   "id": "0d89fad5",
   "metadata": {},
   "outputs": [
    {
     "name": "stderr",
     "output_type": "stream",
     "text": [
      "                                                                                \r"
     ]
    },
    {
     "name": "stdout",
     "output_type": "stream",
     "text": [
      "+-------+--------------+------+------+-----+--------------------+-------------------+\n",
      "|:item\\t|     invoiceID|userID|amount|notes|       paymentStatus|               date|\n",
      "+-------+--------------+------+------+-----+--------------------+-------------------+\n",
      "|      1|INVCLSYLFY0001|     2| 65000| NULL|Successfully capt...|2017-03-30 09:21:53|\n",
      "|      1|INVCLSYLFY0002|     2| 65000| NULL|Waiting customer ...|2017-03-30 09:44:38|\n",
      "|      2|INVCLSYLFY0003|     5| 65000| NULL|Waiting customer ...|2017-03-30 10:01:35|\n",
      "|      1|INVCLSYLFY0004|     2| 65000| NULL|Successfully capt...|2017-03-30 10:39:39|\n",
      "|      1|INVCLSYLFY0005|     8| 65000| NULL|Successfully capt...|2017-03-30 10:50:19|\n",
      "|      2|INVCLSYLFY0006|     9| 65000| NULL|Waiting customer ...|2017-03-30 11:06:19|\n",
      "|      1|INVCLSYLFY0007|    10| 65000| NULL|Successfully capt...|2017-03-30 11:19:16|\n",
      "|      1|INVCLSYLFY0008|    10| 65000| NULL|Successfully capt...|2017-03-30 11:20:34|\n",
      "|      1|INVCLSYLFY0009|    10| 65000| NULL|Successfully capt...|2017-03-30 11:22:40|\n",
      "|      1|INVCLSYLFY0010|    22| 65000| NULL|Successfully capt...|2017-04-07 23:19:35|\n",
      "|      2|INVCLSYLFY0011|    23| 65000| NULL|Waiting customer ...|2017-04-07 23:42:30|\n",
      "|      1|INVCLSYLFY0012|    24| 65000| NULL|Successfully capt...|2017-04-08 01:05:10|\n",
      "|      1|INVCLSYLFY0013|    25| 65000| NULL|Successfully capt...|2017-04-08 01:08:04|\n",
      "|      1|INVCLSYLFY0014|    25| 65000| NULL|Successfully capt...|2017-04-08 01:09:30|\n",
      "|      1|INVCLSYLFY0015|    23| 65000| NULL|Successfully capt...|2017-04-08 01:11:38|\n",
      "|      1|INVCLSYLFY0016|    23| 65000| NULL|Successfully capt...|2017-04-08 01:12:59|\n",
      "|      1|INVCLSYLFY0017|    26| 65000| NULL|Payment using ech...|2017-04-08 01:17:06|\n",
      "|      1|INVCLSYLFY0018|    27| 65000| NULL|Payment using ech...|2017-04-08 01:24:26|\n",
      "|      1|INVCLSYLFY0019|    28| 65000| NULL|Successfully capt...|2017-04-08 01:26:22|\n",
      "|      1|INVCLSYLFY0020|    29| 65000| NULL|Successfully capt...|2017-04-08 01:30:07|\n",
      "+-------+--------------+------+------+-----+--------------------+-------------------+\n",
      "only showing top 20 rows\n",
      "\n"
     ]
    }
   ],
   "source": [
    "df.show()"
   ]
  },
  {
   "cell_type": "code",
   "execution_count": 13,
   "id": "afb3f67a",
   "metadata": {},
   "outputs": [],
   "source": [
    "df1 = df.filter(df.paymentStatus=='Successfully captured using credit_card')"
   ]
  },
  {
   "cell_type": "code",
   "execution_count": 14,
   "id": "b9b71d3b",
   "metadata": {},
   "outputs": [],
   "source": [
    "df2 = df.filter(df.paymentStatus=='Waiting customer to finish transaction using bank_transfer')"
   ]
  },
  {
   "cell_type": "code",
   "execution_count": 17,
   "id": "1c84da3e",
   "metadata": {},
   "outputs": [],
   "source": [
    "df3 = df1.filter((df.date>'2017-01-01')&(df.date<'2017-04-01'))\n",
    "df4 = df1.filter((df.date>'2018-01-01')&(df.date<'2018-04-01'))\n",
    "df5 = df1.filter((df.date>'2019-01-01')&(df.date<'2019-04-01'))\n",
    "df6 = df1.filter((df.date>'2020-01-01')&(df.date<'2020-04-01'))\n",
    "dfawal1 = df3.union(df4)\n",
    "dfawal2 = df5.union(df6)\n",
    "dfawal = dfawal1.union(dfawal2)"
   ]
  },
  {
   "cell_type": "code",
   "execution_count": 22,
   "id": "db0d5811",
   "metadata": {},
   "outputs": [
    {
     "data": {
      "text/plain": [
       "15"
      ]
     },
     "execution_count": 22,
     "metadata": {},
     "output_type": "execute_result"
    }
   ],
   "source": [
    "dfawal.count()"
   ]
  },
  {
   "cell_type": "code",
   "execution_count": 19,
   "id": "9f0ba4f4",
   "metadata": {},
   "outputs": [],
   "source": [
    "df3 = df2.filter((df.date>'2017-10-01')&(df.date<'2017-12-01'))\n",
    "df4 = df2.filter((df.date>'2018-10-01')&(df.date<'2018-12-01'))\n",
    "df5 = df2.filter((df.date>'2019-10-01')&(df.date<'2019-12-01'))\n",
    "df6 = df2.filter((df.date>'2020-10-01')&(df.date<'2020-12-01'))\n",
    "dfawal1 = df3.union(df4)\n",
    "dfawal2 = df5.union(df6)\n",
    "dfakhir = dfawal1.union(dfawal2)"
   ]
  },
  {
   "cell_type": "code",
   "execution_count": 21,
   "id": "a105cfa9",
   "metadata": {},
   "outputs": [
    {
     "data": {
      "text/plain": [
       "153"
      ]
     },
     "execution_count": 21,
     "metadata": {},
     "output_type": "execute_result"
    }
   ],
   "source": [
    "dfakhir.count()"
   ]
  },
  {
   "cell_type": "code",
   "execution_count": 25,
   "id": "c3a122c1",
   "metadata": {},
   "outputs": [],
   "source": [
    "dfawal.write \\\n",
    ".format(\"jdbc\") \\\n",
    ".option('url','jdbc:postgresql://localhost/bigdatacilsy') \\\n",
    ".option('dbtable','awal_tahun') \\\n",
    ".option('user','postgres') \\\n",
    ".option('password','postgres') \\\n",
    ".option('mode', 'append') \\\n",
    ".option('driver','org.postgresql.Driver')\\\n",
    ".save()"
   ]
  },
  {
   "cell_type": "code",
   "execution_count": 26,
   "id": "a7eebbc1",
   "metadata": {},
   "outputs": [],
   "source": [
    "dfakhir.write \\\n",
    ".format(\"jdbc\") \\\n",
    ".option('url','jdbc:postgresql://localhost/bigdatacilsy') \\\n",
    ".option('dbtable','akhir_tahun') \\\n",
    ".option('user','postgres') \\\n",
    ".option('password','postgres') \\\n",
    ".option('mode', 'append') \\\n",
    ".option('driver','org.postgresql.Driver')\\\n",
    ".save()"
   ]
  },
  {
   "cell_type": "code",
   "execution_count": 28,
   "id": "232b85c7",
   "metadata": {},
   "outputs": [
    {
     "name": "stderr",
     "output_type": "stream",
     "text": [
      "\r",
      "[Stage 19:>                                                         (0 + 1) / 1]\r",
      "\r",
      "                                                                                \r"
     ]
    }
   ],
   "source": [
    "df2.write \\\n",
    ".format(\"jdbc\") \\\n",
    ".option('url','jdbc:postgresql://localhost/bigdatacilsy') \\\n",
    ".option('dbtable','belum') \\\n",
    ".option('user','postgres') \\\n",
    ".option('password','postgres') \\\n",
    ".option('mode', 'append') \\\n",
    ".option('driver','org.postgresql.Driver')\\\n",
    ".save()"
   ]
  },
  {
   "cell_type": "code",
   "execution_count": null,
   "id": "393597c4",
   "metadata": {},
   "outputs": [],
   "source": []
  }
 ],
 "metadata": {
  "kernelspec": {
   "display_name": "Python 3 (ipykernel)",
   "language": "python",
   "name": "python3"
  },
  "language_info": {
   "codemirror_mode": {
    "name": "ipython",
    "version": 3
   },
   "file_extension": ".py",
   "mimetype": "text/x-python",
   "name": "python",
   "nbconvert_exporter": "python",
   "pygments_lexer": "ipython3",
   "version": "3.9.7"
  }
 },
 "nbformat": 4,
 "nbformat_minor": 5
}
